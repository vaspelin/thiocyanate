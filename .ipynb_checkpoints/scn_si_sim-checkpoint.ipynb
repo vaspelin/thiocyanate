{
 "cells": [
  {
   "cell_type": "markdown",
   "metadata": {
    "collapsed": true
   },
   "source": [
    "# Thermodynamics of Thiocyanate Anions in Water and at the Air-Water Interface - Simulation (SI)"
   ]
  },
  {
   "cell_type": "markdown",
   "metadata": {},
   "source": [
    "## Prerequisites: openmm, mdtraj, packmol\n",
    "- conda config --add channels omnia\n",
    "- conda install -c omnia openmm\n",
    "- https://simtk.org/api_docs/openmm/api6_1/python/index.html\n",
    "- http://docs.openmm.org/7.0.0/userguide/index.html\n",
    "- http://docs.openmm.org/7.0.0/api-python/index.html\n",
    "- conda install -c omnia mdtraj\n",
    "- http://mdtraj.org/1.7.2/\n",
    "- install packmol with ./configure and make, copy the exe in the working directory\n",
    "- http://www.ime.unicamp.br/~martinez/packmol/home.shtml"
   ]
  },
  {
   "cell_type": "markdown",
   "metadata": {},
   "source": [
    "## Import modules"
   ]
  },
  {
   "cell_type": "code",
   "execution_count": 2,
   "metadata": {
    "collapsed": true
   },
   "outputs": [],
   "source": [
    "%matplotlib inline\n",
    "from __future__ import division, print_function\n",
    "import shutil\n",
    "from io import StringIO\n",
    "from math import pi\n",
    "from scipy import integrate\n",
    "from IPython.display import display, Math, Latex\n",
    "import numpy as np\n",
    "import mdtraj as md\n",
    "import matplotlib\n",
    "import matplotlib.pyplot as plt\n",
    "plt.rcParams.update({'font.size': 16})\n",
    "import os "
   ]
  },
  {
   "cell_type": "markdown",
   "metadata": {},
   "source": [
    "## Parameter setup\n",
    "In the next cell we specify the parameters that will be used in the simulation in a dictionary."
   ]
  },
  {
   "cell_type": "code",
   "execution_count": 3,
   "metadata": {
    "collapsed": false
   },
   "outputs": [
    {
     "name": "stdout",
     "output_type": "stream",
     "text": [
      "Current directory: /home/vidar/playground\n"
     ]
    }
   ],
   "source": [
    "WORKDIR = '/home/vidar/playground/'#'/lunarc/nobackup/users/eko12vas/'\n",
    "os.chdir(WORKDIR)\n",
    "print(\"Current directory:\", os.getcwd())\n",
    "\n",
    "# simulation parameters: more to be added\n",
    "\n",
    "# Dictionary, atom and system properties\n",
    "d = {\n",
    "'Forcefield name': 'ff_our',\n",
    "'Water model': 'spce',\n",
    "'Box size': 25,\n",
    "'Input concentrations':    [0.445, 1.39], \n",
    "'Molal concentrations':    [0.5  , 2.0 ],  \n",
    "'Bond length':             {'SC':0.169500,         'CN':0.115000,             'OH':0.10000}, \n",
    "'Harmonic bond constant':  {'SC':252929.5,         'CN':998590.3,             'OH':345000}, \n",
    "'Bond angle':              {'SCN':3.13810199508,   'HOH':1.91061193216}, \n",
    "'Harmonic angle constant': {'SCN':698.56,          'HOH':383}, \n",
    "'Mass':           {'S':32.0660, 'C':12.0110, 'N':14.0067,                          'Na':22.9898, 'K':39.0983, 'Cl':35.453,  'I':126.90 },\n",
    "'Partial charge': {'S':-0.573,  'C':0.483,   'N':-0.91,   'O':-0.8476, 'H':0.4238, 'Na':1.000,   'K':1.000,   'Cl':-1.000,  'I':-1.000 },  \n",
    "'Size':           {'S':0.383,   'C':0.335,   'N':0.37,    'O':0.3166,  'H':0,      'Na':0.255,   'K':0.403,   'Cl':0.43900, 'I':0.491  },  \n",
    "'Well depth':     {'S':1.523,   'C':0.425,   'N':0.310,   'O':0.650,   'H':0,      'Na':0.28,    'K':0.85,    'Cl':0.41600, 'I':0.158  },\n",
    "'Steps':          {'Simulation':10000, 'Report':1000},\n",
    "'Constants':      {'A':6.022*pow(10,23),  'Unit converter':pow(10,-9)}}\n",
    "\n",
    "cation = 'Na'\n",
    "cation_name = 'sodium'\n",
    "\n",
    "anion = 'SCN'\n",
    "anion_name = 'thiocyanate'\n",
    "\n",
    "# Defining function that converts concentration in molar to number of particles, based on box size\n",
    "def conc2num(conc,box_size):\n",
    "    n_scn = conc*pow(box_size*d['Constants']['Unit converter'],3)*d['Constants']['A']\n",
    "    return round(n_scn)"
   ]
  },
  {
   "cell_type": "markdown",
   "metadata": {},
   "source": [
    "## Creating folder tree\n",
    "In the next cell we create directories that will store the files needed for simulation and the output files."
   ]
  },
  {
   "cell_type": "code",
   "execution_count": 11,
   "metadata": {
    "collapsed": true
   },
   "outputs": [],
   "source": [
    "if not os.path.exists('data'):\n",
    "    os.mkdir('data')\n",
    "\n",
    "if not os.path.exists('data/'+d['Forcefield name']):\n",
    "    os.mkdir('data/'+d['Forcefield name'])\n",
    "    \n",
    "if not os.path.exists('data/'+d['Forcefield name']+'/'+d['Water model']):\n",
    "    os.mkdir('data/'+d['Forcefield name']+'/'+d['Water model'])\n",
    "\n",
    "if not os.path.exists('data/'+d['Forcefield name']+'/'+d['Water model']+'/'+cation.lower()+anion.lower()):\n",
    "    os.mkdir('data/'+d['Forcefield name']+'/'+d['Water model']+'/'+cation.lower()+anion.lower())\n",
    "\n",
    "for conc_m in d['Molal concentrations']:\n",
    "\n",
    "    if not os.path.exists('data/'+d['Forcefield name']+'/'+d['Water model']+'/'+cation.lower()+anion.lower()+'/'+str(conc_m)+'m'):\n",
    "        os.mkdir('data/'+d['Forcefield name']+'/'+d['Water model']+'/'+cation.lower()+anion.lower()+'/'+str(conc_m)+'m')"
   ]
  },
  {
   "cell_type": "markdown",
   "metadata": {},
   "source": [
    "## Using Packmol to generate input file\n",
    "Here, we use Packmol to create a system of n thiocyanate molecules. The number n is based on the input concentration and the box size that we defined in the dictionary."
   ]
  },
  {
   "cell_type": "code",
   "execution_count": 12,
   "metadata": {
    "collapsed": false
   },
   "outputs": [
    {
     "name": "stdout",
     "output_type": "stream",
     "text": [
      "Current working directory:  /home/vidar/playground\n",
      "Concentration input: 1.39  M results in 13 SCN-ions\n"
     ]
    }
   ],
   "source": [
    "print('Current working directory: ', os.getcwd())\n",
    "for (conc_input, conc_m) in zip(d['Input concentrations'], d['Molal concentrations']):\n",
    "    \n",
    "    wdir = WORKDIR+'data/'+d['Forcefield name']+'/'+d['Water model']+'/'+cation.lower()+anion.lower()+'/'+str(conc_m)+'m/'\n",
    "    \n",
    "    # write input file for packmol\n",
    "    \n",
    "    print('Concentration input:', conc_input, ' M results in', conc2num(conc_input, d['Box size']), 'SCN-ions')\n",
    "    PACKMOL_PATH = '../packmol/'\n",
    "\n",
    "    PACKMOL_INPUT = \"\"\" \n",
    "# Mixture \n",
    "\n",
    "tolerance %f\n",
    "filetype pdb\n",
    "output %s\n",
    "add_amber_ter\n",
    "\n",
    "structure %s\n",
    "  number %d \n",
    "  inside box 0. 0. 0. %f %f %f\n",
    "end structure\n",
    "\"\"\"\n",
    "\n",
    "    PACKMOL_INPUT = PACKMOL_INPUT % (1,str(conc_m)+'m_box.pdb',str(conc_m)+'m_scn.pdb',conc2num(conc_input, d['Box size']),d['Box size'],d['Box size'],d['Box size'])\n",
    "    \n",
    "    file_handle = open('packmol_input_scn.txt', 'w')\n",
    "    file_handle.write(PACKMOL_INPUT)\n",
    "    file_handle.close()\n",
    "    \n",
    "    # write pdb file for single SCN\n",
    "\n",
    "    scn_pdb = \"\"\"CRYST1  %f  %f  %f  90.00  90.00  90.00 P 1           1\n",
    "HETATM    1  S   SCN A   1      20.000  20.000  20.000  1.00  0.00           S\n",
    "HETATM    2  C   SCN A   1      20.000  20.000  21.670  1.00  0.00           C\n",
    "HETATM    3  N   SCN A   1      20.000  20.000  22.760  1.00  0.00           N\n",
    "TER       4      SCN A   1   \n",
    "END\"\"\"\n",
    "\n",
    "    scn_pdb = scn_pdb % (d['Box size'], d['Box size'], d['Box size'])\n",
    "    \n",
    "    with open(str(conc_m)+'m_scn.pdb', 'w') as text_file:\n",
    "        text_file.write(scn_pdb)\n",
    "\n",
    "    # use packmol to create a system of n_scn randomly placed scn molecules\n",
    "    os.system(\"%s < %s\" % (PACKMOL_PATH+'packmol', 'packmol_input_scn.txt'))\n",
    "    \n",
    "    # move created files to the dedicated folder\n",
    "    for src_filename in [str(conc_m)+'m_scn.pdb', str(conc_m)+'m_box.pdb', 'packmol_input_scn.txt']:\n",
    "        dst_filename = os.path.join(wdir, os.path.basename(src_filename))\n",
    "        shutil.move(src_filename, dst_filename)"
   ]
  },
  {
   "cell_type": "markdown",
   "metadata": {},
   "source": [
    "## Writing the force field file\n",
    "Here, the force field file is created. Some parameters, like the mass of atoms, are given values directly in the file since those are fixed in our study. Others, like the Lennard-Jones parameters, are retrieved from the dictionary created before.  "
   ]
  },
  {
   "cell_type": "code",
   "execution_count": 13,
   "metadata": {
    "collapsed": false,
    "scrolled": true
   },
   "outputs": [
    {
     "name": "stdout",
     "output_type": "stream",
     "text": [
      "\n",
      "<ForceField>\n",
      "\n",
      " <AtomTypes>\n",
      "  <Type name=\"scn-S\" class=\"SS\" element=\"S\" mass=\"32.0660\"/>\n",
      "  <Type name=\"scn-C\" class=\"CS\" element=\"C\" mass=\"12.0110\"/>\n",
      "  <Type name=\"scn-N\" class=\"NS\" element=\"N\" mass=\"14.0067\"/>\n",
      "  <Type name=\"sodium\" class=\"Na\" element=\"Na\" mass=\"22.989800\"/>\n",
      "  <Type name=\"spce-O\" class=\"OW\" element=\"O\" mass=\"15.99943\"/>\n",
      "  <Type name=\"spce-H\" class=\"HW\" element=\"H\" mass=\"1.007947\"/>\n",
      "\n",
      " </AtomTypes>\n",
      "\n",
      " <Residues>\n",
      "  <Residue name=\"SCN\">\n",
      "   <Atom name=\"S\" type=\"scn-S\"/>\n",
      "   <Atom name=\"C\" type=\"scn-C\"/>\n",
      "   <Atom name=\"N\" type=\"scn-N\"/>\n",
      "   <Bond from=\"0\" to=\"1\"/>\n",
      "   <Bond from=\"1\" to=\"2\"/>\n",
      "  </Residue>\n",
      "\n",
      "  <Residue name=\"HOH\">\n",
      "   <Atom name=\"O\" type=\"spce-O\"/>\n",
      "   <Atom name=\"H1\" type=\"spce-H\"/>\n",
      "   <Atom name=\"H2\" type=\"spce-H\"/>\n",
      "   <Bond from=\"0\" to=\"1\"/>\n",
      "   <Bond from=\"0\" to=\"2\"/>\n",
      "  </Residue>\n",
      "\n",
      "  <Residue name=\"Na\">\n",
      "   <Atom name=\"Na\" type=\"sodium\"/>\n",
      "  </Residue>\n",
      "\n",
      " </Residues>\n",
      " <HarmonicBondForce>\n",
      "  <Bond class1=\"SS\" class2=\"CS\" length=\"0.169500\" k=\"252929.500000\"/>\n",
      "  <Bond class1=\"CS\" class2=\"NS\" length=\"0.115000\" k=\"998590.300000\"/>\n",
      "  <Bond class1=\"OW\" class2=\"HW\" length=\"0.100000\" k=\"345000.000000\"/>\n",
      " </HarmonicBondForce>\n",
      "\n",
      " <HarmonicAngleForce>    \n",
      "  <Angle class1=\"SS\" class2=\"CS\" class3=\"NS\" angle=\"3.138102\" k=\"698.560000\"/>\n",
      "  <Angle class1=\"HW\" class2=\"OW\" class3=\"HW\" angle=\"1.910612\" k=\"383.000000\"/>\n",
      " </HarmonicAngleForce>\n",
      " <NonbondedForce coulomb14scale=\"0.5\" lj14scale=\"0.5\">\n",
      "  <Atom type=\"scn-S\" charge=\"-0.573000\" sigma=\"0.383000\" epsilon=\"1.523000\"/>\n",
      "  <Atom type=\"scn-C\" charge=\"0.483000\" sigma=\"0.335000\" epsilon=\"0.425000\"/>\n",
      "  <Atom type=\"scn-N\" charge=\"-0.910000\" sigma=\"0.370000\" epsilon=\"0.310000\"/>\n",
      "  <Atom type=\"spce-O\" charge=\"-0.847600\" sigma=\"0.316600\" epsilon=\"0.650000\"/>\n",
      "  <Atom type=\"spce-H\" charge=\"0.423800\" sigma=\"0.000000\" epsilon=\"0.000000\"/>\n",
      "  <Atom type=\"sodium\" charge=\"1.000000\" sigma=\"0.255000\" epsilon=\"0.280000\"/>\n",
      " </NonbondedForce>\n",
      "\n",
      "</ForceField>\n"
     ]
    }
   ],
   "source": [
    "FFXML_topology = \"\"\"\n",
    "<ForceField>\n",
    "\n",
    " <AtomTypes>\n",
    "  <Type name=\"scn-S\" class=\"SS\" element=\"S\" mass=\"32.0660\"/>\n",
    "  <Type name=\"scn-C\" class=\"CS\" element=\"C\" mass=\"12.0110\"/>\n",
    "  <Type name=\"scn-N\" class=\"NS\" element=\"N\" mass=\"14.0067\"/>\n",
    "  <Type name=\"%s\" class=\"%s\" element=\"%s\" mass=\"%f\"/>\n",
    "  <Type name=\"spce-O\" class=\"OW\" element=\"O\" mass=\"15.99943\"/>\n",
    "  <Type name=\"spce-H\" class=\"HW\" element=\"H\" mass=\"1.007947\"/>\n",
    "\n",
    " </AtomTypes>\n",
    "\n",
    " <Residues>\n",
    "  <Residue name=\"SCN\">\n",
    "   <Atom name=\"S\" type=\"scn-S\"/>\n",
    "   <Atom name=\"C\" type=\"scn-C\"/>\n",
    "   <Atom name=\"N\" type=\"scn-N\"/>\n",
    "   <Bond from=\"0\" to=\"1\"/>\n",
    "   <Bond from=\"1\" to=\"2\"/>\n",
    "  </Residue>\n",
    "\n",
    "  <Residue name=\"HOH\">\n",
    "   <Atom name=\"O\" type=\"spce-O\"/>\n",
    "   <Atom name=\"H1\" type=\"spce-H\"/>\n",
    "   <Atom name=\"H2\" type=\"spce-H\"/>\n",
    "   <Bond from=\"0\" to=\"1\"/>\n",
    "   <Bond from=\"0\" to=\"2\"/>\n",
    "  </Residue>\n",
    "\n",
    "  <Residue name=\"%s\">\n",
    "   <Atom name=\"%s\" type=\"%s\"/>\n",
    "  </Residue>\n",
    "\n",
    " </Residues>\"\"\"\n",
    "\n",
    "FFXML_bonded = \"\"\"\n",
    " <HarmonicBondForce>\n",
    "  <Bond class1=\"SS\" class2=\"CS\" length=\"%f\" k=\"%f\"/>\n",
    "  <Bond class1=\"CS\" class2=\"NS\" length=\"%f\" k=\"%f\"/>\n",
    "  <Bond class1=\"OW\" class2=\"HW\" length=\"%f\" k=\"%f\"/>\n",
    " </HarmonicBondForce>\n",
    "\n",
    " <HarmonicAngleForce>    \n",
    "  <Angle class1=\"SS\" class2=\"CS\" class3=\"NS\" angle=\"%f\" k=\"%f\"/>\n",
    "  <Angle class1=\"HW\" class2=\"OW\" class3=\"HW\" angle=\"%f\" k=\"%f\"/>\n",
    " </HarmonicAngleForce>\"\"\"\n",
    "\n",
    "FFXML_nonbonded = \"\"\"\n",
    " <NonbondedForce coulomb14scale=\"0.5\" lj14scale=\"0.5\">\n",
    "  <Atom type=\"scn-S\" charge=\"%f\" sigma=\"%f\" epsilon=\"%f\"/>\n",
    "  <Atom type=\"scn-C\" charge=\"%f\" sigma=\"%f\" epsilon=\"%f\"/>\n",
    "  <Atom type=\"scn-N\" charge=\"%f\" sigma=\"%f\" epsilon=\"%f\"/>\n",
    "  <Atom type=\"spce-O\" charge=\"%f\" sigma=\"%f\" epsilon=\"%f\"/>\n",
    "  <Atom type=\"spce-H\" charge=\"%f\" sigma=\"%f\" epsilon=\"%f\"/>\n",
    "  <Atom type=\"%s\" charge=\"%f\" sigma=\"%f\" epsilon=\"%f\"/>\n",
    " </NonbondedForce>\n",
    "\n",
    "</ForceField>\"\"\"\n",
    "\n",
    "FFXML_topology = FFXML_topology % (cation_name, cation, cation, d['Mass'][cation], cation, cation, cation_name)\n",
    "\n",
    "FFXML_bonded = FFXML_bonded % (d['Bond length']['SC'], d['Harmonic bond constant']['SC'], d['Bond length']['CN'], d['Harmonic bond constant']['CN'], d['Bond length']['OH'], d['Harmonic bond constant']['OH'], d['Bond angle']['SCN'], d['Harmonic angle constant']['SCN'], d['Bond angle']['HOH'], d['Harmonic angle constant']['HOH'])\n",
    "            \n",
    "FFXML_nonbonded = FFXML_nonbonded % (d['Partial charge']['S'], d['Size']['S'], d['Well depth']['S'], d['Partial charge']['C'], d['Size']['C'], d['Well depth']['C'], d['Partial charge']['N'], d['Size']['N'], d['Well depth']['N'], d['Partial charge']['O'], d['Size']['O'], d['Well depth']['O'], d['Partial charge']['H'], d['Size']['H'], d['Well depth']['H'], cation_name, d['Partial charge'][cation], d['Size'][cation], d['Well depth'][cation])\n",
    "\n",
    "FFXML = FFXML_topology + FFXML_bonded + FFXML_nonbonded\n",
    "\n",
    "for conc_m in d['Molal concentrations']:\n",
    "    wdir = WORKDIR+'data/'+d['Forcefield name']+'/'+d['Water model']+'/'+cation.lower()+anion.lower()+'/'+str(conc_m)+'m/'\n",
    "    with open(wdir+str(d['Forcefield name'])+'.xml', 'w') as text_file:\n",
    "        text_file.write(FFXML)\n",
    "        \n",
    "print(FFXML)"
   ]
  },
  {
   "cell_type": "markdown",
   "metadata": {},
   "source": [
    "## Setting up the OpenMM simulation script\n",
    "Here, the simulation script is created. The pdb file generated by Packmol before is needed, as well as the force field file created in the previous cell. "
   ]
  },
  {
   "cell_type": "code",
   "execution_count": 14,
   "metadata": {
    "collapsed": true
   },
   "outputs": [],
   "source": [
    "for conc_m in d['Molal concentrations']:\n",
    "    \n",
    "    wdir = WORKDIR+'data/'+d['Forcefield name']+'/'+d['Water model']+'/'+cation.lower()+anion.lower()+'/'+str(conc_m)+'m/'\n",
    "    \n",
    "    openmm_script=\"\"\"\n",
    "from __future__ import division, print_function\n",
    "\n",
    "import numpy as np\n",
    "\n",
    "# OpenMM Imports\n",
    "from simtk.openmm.app import *\n",
    "from simtk.openmm import *\n",
    "from simtk.unit import *\n",
    "from sys import stdout\n",
    "\n",
    "print(\"Current work directory: \", os.getcwd())\n",
    "pdb = PDBFile(\"%s\")\n",
    "PDBFile.writeFile(pdb.topology, pdb.positions, open(\"%s\", 'w'))\n",
    "\n",
    "# load the force field\n",
    "ff = ForceField(\"%s\")\n",
    "\n",
    "# modify the topology by adding SC and CN bonds\n",
    "atoms = list(pdb.topology.atoms())\n",
    "\n",
    "for i in np.arange(0,len(atoms)-2,3):\n",
    "    pdb.topology.addBond(atoms[i],atoms[i+1])\n",
    "    pdb.topology.addBond(atoms[i+1],atoms[i+2])\n",
    "    i = i + 3\n",
    "\n",
    "\n",
    "modeller = Modeller(pdb.topology, pdb.positions)\n",
    "# Add  water and cations\n",
    "modeller.addSolvent(ff,model='spce',boxSize=(%f,%f,%f)*angstroms,positiveIon='%s')\n",
    "\n",
    "# Create the OpenMM system\n",
    "print('Creating OpenMM System')\n",
    "\n",
    "system = ff.createSystem(modeller.topology,nonbondedMethod=PME,ewaldErrorTolerance=0.0005,\n",
    "                          nonbondedCutoff=1.0*nanometers, constraints=AllBonds, rigidWater=True)\n",
    "\n",
    "# system = ff.createSystem(modeller.topology,nonbondedMethod=PME,ewaldErrorTolerance=0.0005,\n",
    "#                           nonbondedCutoff=1.0*nanometers, constraints=HBonds, rigidWater=True)\n",
    "\n",
    "# Create the integrator to do Langevin dynamics\n",
    "integrator = LangevinIntegrator(\n",
    "                        298*kelvin,       # Temperature of heat bath\n",
    "                        1.0/picoseconds,  # Friction coefficient\n",
    "                        2.0*femtoseconds, # Time step\n",
    ")\n",
    "integrator.setConstraintTolerance(0.00001)\n",
    "\n",
    "# NPT ensemble\n",
    "barostat = MonteCarloBarostat(1.0*bar, 298.0*kelvin, 25) \n",
    "system.addForce(barostat)\n",
    "# Define the platform to use; CUDA, OpenCL, CPU, or Reference. Or do not specify\n",
    "# the platform to use the default (fastest) platform\n",
    "platform = Platform.getPlatformByName('CPU')\n",
    "\n",
    "# prop = dict(CudaPrecision='mixed',CudaDeviceIndex='0,1')\n",
    "\n",
    "# Create the Simulation object\n",
    "sim = Simulation(modeller.topology, system, integrator, platform) # if prop specified, add ',prop)' to line\n",
    "\n",
    "# print(platform.getPropertyValue(sim.context))\n",
    "\n",
    "# Set the particle positions\n",
    "sim.context.setPositions(modeller.positions)\n",
    "# Minimize the energy\n",
    "print('Minimizing energy')\n",
    "sim.minimizeEnergy(tolerance=1*kilojoule/mole, maxIterations=1000)\n",
    "LocalEnergyMinimizer.minimize(sim.context,tolerance=1*kilojoule/mole,maxIterations=1000)\n",
    "\n",
    "sim.context.setVelocitiesToTemperature(298*kelvin)\n",
    "\n",
    "sim.reporters.append(DCDReporter('out.dcd', %d))\n",
    "\n",
    "sim.reporters.append(StateDataReporter(open('%s', 'w'), %d, step=True,\n",
    "      potentialEnergy=True, totalEnergy=True, temperature=True, density=True,\n",
    "          progress=True, remainingTime=True, speed=True, separator='\\t', totalSteps = %d))\n",
    "\n",
    "print('Running Production...')\n",
    "sim.step(%d)\n",
    "with open('out.chk', 'wb') as f:\n",
    "      f.write(sim.context.createCheckpoint())\n",
    "print('Saving pdb file')\n",
    "positions = sim.context.getState(getPositions=True).getPositions()\n",
    "PDBFile.writeFile(sim.topology, positions, open('out.pdb', 'w'))\n",
    "print('Done!')\"\"\"\n",
    "            \n",
    "    openmm_script = openmm_script % (wdir+str(conc_m)+'m_box.pdb', str(conc_m)+'m_box.pdb', wdir+d['Forcefield name']+'.xml', d['Box size'], d['Box size'], d['Box size'], cation+'+', d['Steps']['Report'], 'out_file', d['Steps']['Report'], d['Steps']['Simulation'], d['Steps']['Simulation'])\n",
    "    file_handle = open(wdir+'run.py', 'w')\n",
    "    file_handle.write(openmm_script)\n",
    "    file_handle.close()"
   ]
  },
  {
   "cell_type": "markdown",
   "metadata": {},
   "source": [
    "## Submission script to the computer cluster Aurora\n",
    "Here, one has the option to run the simulation on the computer cluster Aurora, in which case 'aurora' is set to 'True'. Else if 'aurora' is set to 'False', the content in this cell is omitted."
   ]
  },
  {
   "cell_type": "code",
   "execution_count": 15,
   "metadata": {
    "collapsed": true
   },
   "outputs": [],
   "source": [
    "# Flow control: Set aurora to True if you have access. Else: simulation will be run locally.\n",
    "aurora = False\n",
    "\n",
    "if aurora:\n",
    "    aurora_script=\"\"\"#!/bin/bash\n",
    "#SBATCH -p gpu\n",
    "#SBATCH --exclusive\n",
    "#SBATCH --gres=gpu:2\n",
    "#SBATCH --mem-per-cpu=3100\n",
    "#SBATCH -N 1\n",
    "#SBATCH -A lu2017-2-5\n",
    "#\n",
    "# job time, change for what your job requires\n",
    "#SBATCH -t 01:00:00\n",
    "#\n",
    "# job name\n",
    "#SBATCH -J scn\n",
    "#\n",
    "# filenames stdout and stderr - customise, include %j\n",
    "#SBATCH -o scn.out\n",
    "#SBATCH -e scn.err\n",
    "\n",
    "cd $SLURM_SUBMIT_DIR\n",
    "\n",
    "#module purge\n",
    "#module load GCC/5.4.0-2.26\n",
    "#module load CUDA/8.0.44\n",
    "\n",
    "module add intelcuda\n",
    "module unload gcc\n",
    "module load GCC/4.8.4\n",
    "\n",
    "\n",
    "python run.py\"\"\"\n",
    "    \n",
    "    for conc_m in d['Molal concentrations']:\n",
    "        wdir = WORKDIR+'data/'+d['Forcefield name']+'/'+d['Water model']+'/'+cation.lower()+anion.lower()+'/'+str(conc_m)+'m/'\n",
    "        with open(wdir+'aurora.sh', 'w') as text_file:\n",
    "            text_file.write(aurora_script)"
   ]
  },
  {
   "cell_type": "markdown",
   "metadata": {},
   "source": [
    "## Running simulation\n",
    "Finally, we run the simulation. If 'aurora' was set to 'True' in the previous cell, the simulation input will be submitted to the computer cluster Aurora. Otherwise, the simulation will be run locally. "
   ]
  },
  {
   "cell_type": "code",
   "execution_count": 16,
   "metadata": {
    "collapsed": false,
    "scrolled": true
   },
   "outputs": [
    {
     "name": "stdout",
     "output_type": "stream",
     "text": [
      "Current working directory:  /home/vidar/playground/data/ff_our/spce/nascn/2.0m\n",
      "Current work directory:  /home/vidar/playground/data/ff_our/spce/nascn/2.0m\n",
      "Creating OpenMM System\n",
      "Minimizing energy\n",
      "Running Production...\n",
      "Saving pdb file\n",
      "Done!\n"
     ]
    }
   ],
   "source": [
    "for conc_m in d['Molal concentrations']:\n",
    "    wdir = WORKDIR+'data/'+d['Forcefield name']+'/'+d['Water model']+'/'+cation.lower()+anion.lower()+'/'+str(conc_m)+'m/'\n",
    "    os.chdir(wdir)\n",
    "    print(\"Current working directory: \", os.getcwd())\n",
    "    if aurora:\n",
    "        !sbatch aurora.sh\n",
    "        \n",
    "    else:\n",
    "        !python run.py"
   ]
  }
 ],
 "metadata": {
  "kernelspec": {
   "display_name": "Python 3",
   "language": "python",
   "name": "python3"
  },
  "language_info": {
   "codemirror_mode": {
    "name": "ipython",
    "version": 3
   },
   "file_extension": ".py",
   "mimetype": "text/x-python",
   "name": "python",
   "nbconvert_exporter": "python",
   "pygments_lexer": "ipython3",
   "version": "3.5.1"
  }
 },
 "nbformat": 4,
 "nbformat_minor": 1
}
